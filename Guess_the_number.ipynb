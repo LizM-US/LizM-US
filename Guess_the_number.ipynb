{
  "cells": [
    {
      "cell_type": "markdown",
      "metadata": {
        "id": "view-in-github",
        "colab_type": "text"
      },
      "source": [
        "<a href=\"https://colab.research.google.com/github/LizM-US/LizM-US/blob/main/Guess_the_number.ipynb\" target=\"_parent\"><img src=\"https://colab.research.google.com/assets/colab-badge.svg\" alt=\"Open In Colab\"/></a>"
      ]
    },
    {
      "cell_type": "code",
      "execution_count": null,
      "metadata": {
        "colab": {
          "background_save": true,
          "base_uri": "https://localhost:8080/"
        },
        "id": "mASgV20rO6r9",
        "outputId": "07e804d0-0456-45a8-be90-7a7965cd7736"
      },
      "outputs": [
        {
          "output_type": "stream",
          "name": "stdout",
          "text": [
            "Welcome to Guess the Number!\n",
            "I'm thinking of a number between 1 and 100.  Try to guess it!\n",
            "Enter your guess: 25\n",
            "Too low! Try again.\n"
          ]
        }
      ],
      "source": [
        "import random\n",
        "\n",
        "def guess_the_number():\n",
        "  number_to_guess = random.randint(1,100)\n",
        "  guess = None\n",
        "  attempts = 0\n",
        "  print(\"Welcome to Guess the Number!\")\n",
        "  print(\"I'm thinking of a number between 1 and 100.  Try to guess it!\")\n",
        "  #print(number_to_guess)\n",
        "  while guess != number_to_guess:\n",
        "    guess = int(input(\"Enter your guess: \"))\n",
        "    attempts += 1\n",
        "    if guess < number_to_guess:\n",
        "      print(\"Too low! Try again.\")\n",
        "    elif guess > number_to_guess:\n",
        "      print(\"Too high! Try again.\")\n",
        "    else:\n",
        "      print(f\"Congrats! You guessed the number in {attempts} attempts.\")\n",
        "guess_the_number()"
      ]
    }
  ],
  "metadata": {
    "colab": {
      "provenance": [],
      "authorship_tag": "ABX9TyP5AZLRfK+3Cg2VCTb7OvH/",
      "include_colab_link": true
    },
    "kernelspec": {
      "display_name": "Python 3",
      "name": "python3"
    },
    "language_info": {
      "name": "python"
    }
  },
  "nbformat": 4,
  "nbformat_minor": 0
}